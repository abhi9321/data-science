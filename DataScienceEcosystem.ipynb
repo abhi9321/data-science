{
 "cells": [
  {
   "cell_type": "markdown",
   "id": "37b42165-6353-49ef-b344-3a832fe8b8bc",
   "metadata": {},
   "source": [
    "# Data Science Tools and Ecosystem"
   ]
  },
  {
   "cell_type": "markdown",
   "id": "28d5ac75-11ff-41a1-8aea-fa3f8a2570be",
   "metadata": {},
   "source": [
    "In this notebook, Data Science Tools and Ecosystem are summarized"
   ]
  },
  {
   "cell_type": "markdown",
   "id": "42c91fa1-30db-45dd-8f66-4f401ff880ad",
   "metadata": {},
   "source": [
    "**Objectives:**\n",
    "\n",
    "* List popular languages for Data Science\n",
    "* Learn how to use Jupyter Notebook\n",
    "* Explore popular libraries for data science (NumPy, Pandas, Matplotlib)\n",
    "* Perform basic arithmetic operations in Python\n",
    "* Convert units of measurement"
   ]
  },
  {
   "cell_type": "markdown",
   "id": "2563469e-3924-475e-ae10-33baa713fe42",
   "metadata": {},
   "source": [
    "Some of the popular languages that Data Scientists use are:\n",
    "1. Python\n",
    "2. R\n",
    "3. Julia"
   ]
  },
  {
   "cell_type": "markdown",
   "id": "1041dc54-d8f5-4016-8abc-20a4e2ab00fd",
   "metadata": {},
   "source": [
    "Some of the commonly used libraries used by Data Scientists include:\n",
    "1. NumPy\n",
    "2. Pandas\n",
    "3. Matplotlib"
   ]
  },
  {
   "cell_type": "markdown",
   "id": "1b25c39b-8f8c-40c1-9935-7173f54aa1c5",
   "metadata": {},
   "source": [
    "| Data Science Tools |\n",
    "|------|\n",
    "| Jupyter Notebook |\n",
    "| RStudio |\n",
    "| VS Code |\n"
   ]
  },
  {
   "cell_type": "markdown",
   "id": "a508fba4-d9ea-4955-83bd-0098b2a357e2",
   "metadata": {},
   "source": [
    "### Below are a few examples of evaluating arithmetic expressions in Python.\n"
   ]
  },
  {
   "cell_type": "code",
   "execution_count": 2,
   "id": "3c2b7574-4ba7-42fd-a2c8-14b7c1c2891e",
   "metadata": {},
   "outputs": [
    {
     "data": {
      "text/plain": [
       "17"
      ]
     },
     "execution_count": 2,
     "metadata": {},
     "output_type": "execute_result"
    }
   ],
   "source": [
    "# This is a simple arithmetic expression to multiply then add integers.\n",
    "(3 * 4) + 5"
   ]
  },
  {
   "cell_type": "code",
   "execution_count": 3,
   "id": "0cc0cc6b-3f83-498b-b860-1885869e4304",
   "metadata": {},
   "outputs": [
    {
     "data": {
      "text/plain": [
       "3.3333333333333335"
      ]
     },
     "execution_count": 3,
     "metadata": {},
     "output_type": "execute_result"
    }
   ],
   "source": [
    "# This will convert 200 minutes to hours by dividing by 60.\n",
    "200 / 60"
   ]
  },
  {
   "cell_type": "markdown",
   "id": "3ae278a2-b253-471e-966f-70488bbc52e4",
   "metadata": {},
   "source": [
    "## Author\n",
    "Abhishek G"
   ]
  },
  {
   "cell_type": "code",
   "execution_count": null,
   "id": "744a989d-6e5d-49e5-bb78-0b197f0ee448",
   "metadata": {},
   "outputs": [],
   "source": []
  }
 ],
 "metadata": {
  "kernelspec": {
   "display_name": "Python 3 (ipykernel)",
   "language": "python",
   "name": "python3"
  },
  "language_info": {
   "codemirror_mode": {
    "name": "ipython",
    "version": 3
   },
   "file_extension": ".py",
   "mimetype": "text/x-python",
   "name": "python",
   "nbconvert_exporter": "python",
   "pygments_lexer": "ipython3",
   "version": "3.11.7"
  }
 },
 "nbformat": 4,
 "nbformat_minor": 5
}
